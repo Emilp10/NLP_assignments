{
 "cells": [
  {
   "cell_type": "code",
   "execution_count": 2,
   "metadata": {},
   "outputs": [
    {
     "name": "stdout",
     "output_type": "stream",
     "text": [
      "[==================================================] 100.0% 1662.8/1662.8MB downloaded\n"
     ]
    }
   ],
   "source": [
    "import gensim.downloader as api\n",
    "\n",
    "# Load the Google News Word2Vec model\n",
    "wv_pretrained = api.load('word2vec-google-news-300')\n"
   ]
  },
  {
   "cell_type": "code",
   "execution_count": 3,
   "metadata": {},
   "outputs": [
    {
     "name": "stdout",
     "output_type": "stream",
     "text": [
      "\n",
      "Most similar words to 'computer':\n",
      "[('computers', 0.7979379892349243), ('laptop', 0.6640493273735046), ('laptop_computer', 0.6548868417739868), ('Computer', 0.647333562374115), ('com_puter', 0.6082080006599426)]\n",
      "\n",
      "Most similar words to 'music':\n",
      "[('classical_music', 0.7197794318199158), ('jazz', 0.6834640502929688), ('Music', 0.6595720648765564), ('Without_Donny_Kirshner', 0.6416222453117371), ('songs', 0.6396344304084778)]\n",
      "\n",
      "Most similar words to 'car':\n",
      "[('vehicle', 0.7821096181869507), ('cars', 0.7423831224441528), ('SUV', 0.7160962224006653), ('minivan', 0.6907036900520325), ('truck', 0.6735789775848389)]\n",
      "\n",
      "Most similar words to 'river':\n",
      "[('creek', 0.7994443774223328), ('lake', 0.7919586896896362), ('rivers', 0.7777560949325562), ('riverbank', 0.7283665537834167), ('canal', 0.722176194190979)]\n",
      "\n",
      "Most similar words to 'city':\n",
      "[('citys', 0.6803998947143555), ('mayor', 0.675115168094635), ('town', 0.6723739504814148), ('municipality', 0.6530812382698059), ('municipal', 0.6222546100616455)]\n"
     ]
    }
   ],
   "source": [
    "words = [\"computer\", \"music\", \"car\", \"river\", \"city\"]\n",
    "\n",
    "for word in words:\n",
    "    print(f\"\\nMost similar words to '{word}':\")\n",
    "    print(wv_pretrained.most_similar(positive=[word], topn=5))\n"
   ]
  },
  {
   "cell_type": "code",
   "execution_count": 4,
   "metadata": {},
   "outputs": [
    {
     "name": "stdout",
     "output_type": "stream",
     "text": [
      "\n",
      "Analogy: king - man + woman ≈ queen\n",
      "[('queen', 0.7118193507194519), ('monarch', 0.6189674139022827), ('princess', 0.5902431011199951), ('crown_prince', 0.5499460697174072), ('prince', 0.5377321839332581), ('kings', 0.5236844420433044), ('Queen_Consort', 0.5235945582389832), ('queens', 0.5181134343147278), ('sultan', 0.5098593831062317), ('monarchy', 0.5087411999702454)]\n",
      "\n",
      "Analogy: paris - france + italy ≈ rome\n",
      "[('lohan', 0.5069674849510193), ('madrid', 0.481842964887619), ('heidi', 0.4799900949001312), ('real_madrid', 0.4753323495388031), ('florence', 0.4682057499885559), ('diego', 0.46727296710014343), ('ronnie', 0.4672326445579529), ('juventus', 0.4672061800956726), ('joel', 0.4653724133968353), ('huntelaar', 0.46358999609947205)]\n",
      "\n",
      "Analogy: walk - walking + running ≈ run\n",
      "[('run', 0.6875616908073425), ('Running', 0.5862020254135132), ('ran', 0.46127015352249146), ('runing', 0.4451839029788971), ('drive', 0.4358782470226288), ('go', 0.43339887261390686), ('runnning', 0.4323393404483795), ('runs', 0.42235538363456726), ('Tauni_Vakapuna', 0.41945880651474), ('scamper', 0.395483136177063)]\n",
      "\n",
      "Analogy: apple - fruit + vegetable ≈ carrot\n",
      "[('potato', 0.5865277647972107), ('onion', 0.5616337656974792), ('veggie', 0.5172390937805176), ('tomato', 0.4943786561489105), ('sweet_potato', 0.49368953704833984), ('Vegetable', 0.4932582974433899), ('Brussels_sprout', 0.4869670867919922), ('cauliflower', 0.482282817363739), ('edible', 0.4821529984474182), ('pumpkin', 0.4816454350948334)]\n"
     ]
    }
   ],
   "source": [
    "print(\"\\nAnalogy: king - man + woman ≈ queen\")\n",
    "print(wv_pretrained.most_similar(positive=['king', 'woman'], negative=['man']))\n",
    "\n",
    "print(\"\\nAnalogy: paris - france + italy ≈ rome\")\n",
    "print(wv_pretrained.most_similar(positive=['paris', 'italy'], negative=['france']))\n",
    "\n",
    "print(\"\\nAnalogy: walk - walking + running ≈ run\")\n",
    "print(wv_pretrained.most_similar(positive=['walk', 'running'], negative=['walking']))\n",
    "\n",
    "print(\"\\nAnalogy: apple - fruit + vegetable ≈ carrot\")\n",
    "print(wv_pretrained.most_similar(positive=['apple', 'vegetable'], negative=['fruit']))\n"
   ]
  },
  {
   "cell_type": "code",
   "execution_count": null,
   "metadata": {},
   "outputs": [],
   "source": []
  }
 ],
 "metadata": {
  "kernelspec": {
   "display_name": "Python 3",
   "language": "python",
   "name": "python3"
  },
  "language_info": {
   "codemirror_mode": {
    "name": "ipython",
    "version": 3
   },
   "file_extension": ".py",
   "mimetype": "text/x-python",
   "name": "python",
   "nbconvert_exporter": "python",
   "pygments_lexer": "ipython3",
   "version": "3.10.0"
  }
 },
 "nbformat": 4,
 "nbformat_minor": 2
}
